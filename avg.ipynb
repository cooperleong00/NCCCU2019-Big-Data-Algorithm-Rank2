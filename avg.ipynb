{
 "cells": [
  {
   "cell_type": "code",
   "execution_count": null,
   "metadata": {},
   "outputs": [],
   "source": [
    "import pandas as pd\n",
    "import numpy as np\n",
    "\n",
    "from sklearn.metrics import f1_score,accuracy_score,roc_auc_score,log_loss\n",
    "from sklearn.model_selection import train_test_split,KFold,StratifiedKFold\n",
    "from sklearn.preprocessing import LabelEncoder,MinMaxScaler\n",
    "\n",
    "from hyperopt import fmin, tpe, hp,space_eval,rand,Trials,partial,STATUS_OK\n",
    "\n",
    "import random"
   ]
  },
  {
   "cell_type": "code",
   "execution_count": null,
   "metadata": {},
   "outputs": [],
   "source": [
    "train_data = pd.read_csv('oof_cbt_12.csv')\n",
    "test_data = pd.read_csv('test_cbt_12.csv')\n",
    "\n",
    "train_data = pd.concat([train_data,pd.read_csv('oof_lgb_12.csv')],axis=1)\n",
    "test_data =pd.concat([test_data,pd.read_csv('test_lgb_12.csv')],axis=1)\n",
    "\n",
    "label = pd.read_csv('train_label.csv')\n",
    "y = label.label.values\n",
    "\n",
    "original_cols = train_data.columns"
   ]
  },
  {
   "cell_type": "code",
   "execution_count": null,
   "metadata": {},
   "outputs": [],
   "source": [
    "space = {}\n",
    "for idx,col in enumerate(original_cols):\n",
    "    space['w'+str(10+idx)] = hp.uniform('w'+str(10+idx),-1,3)"
   ]
  },
  {
   "cell_type": "code",
   "execution_count": null,
   "metadata": {},
   "outputs": [],
   "source": [
    "def wrapper(params):\n",
    "    return -(roc_auc_score(y,np.dot(train_data[original_cols].values, np.array(list(params.values())))))"
   ]
  },
  {
   "cell_type": "code",
   "execution_count": null,
   "metadata": {},
   "outputs": [],
   "source": [
    "#搜索oof加权后auc最优的权重组合\n",
    "\n",
    "trials = Trials()\n",
    "%time best = fmin(fn=wrapper, space=space, algo=tpe.suggest, max_evals=3000, trials=trials)\n",
    "print(best)"
   ]
  },
  {
   "cell_type": "code",
   "execution_count": null,
   "metadata": {},
   "outputs": [],
   "source": [
    "import datetime\n",
    "now = datetime.datetime.now()\n",
    "submit = pd.read_csv('submission.csv')\n",
    "submit[['label']] = np.dot(test_data.values,np.array(list(best.values())))\n",
    "\n",
    "mms = MinMaxScaler(feature_range=(0, 0.999999))\n",
    "submit[['label']] = mms.fit_transform(submit[['label']])\n",
    "\n",
    "submit.to_csv(\"submit/avg_{0}-{1}-{2}_{3}-{4}.csv\".format(now.year,now.month,now.day,now.hour,now.minute),index=False)"
   ]
  }
 ],
 "metadata": {
  "kernelspec": {
   "display_name": "Python 3",
   "language": "python",
   "name": "python3"
  },
  "language_info": {
   "codemirror_mode": {
    "name": "ipython",
    "version": 3
   },
   "file_extension": ".py",
   "mimetype": "text/x-python",
   "name": "python",
   "nbconvert_exporter": "python",
   "pygments_lexer": "ipython3",
   "version": "3.7.6"
  }
 },
 "nbformat": 4,
 "nbformat_minor": 2
}
